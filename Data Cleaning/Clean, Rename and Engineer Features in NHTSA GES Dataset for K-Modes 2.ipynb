{
 "cells": [
  {
   "cell_type": "code",
   "execution_count": 16,
   "metadata": {},
   "outputs": [],
   "source": [
    "import pandas as pd \n",
    "import numpy as np "
   ]
  },
  {
   "cell_type": "code",
   "execution_count": 17,
   "metadata": {},
   "outputs": [],
   "source": [
    "final_df = pd.read_csv(\"nhtsa_ges_extracted.csv\")"
   ]
  },
  {
   "cell_type": "code",
   "execution_count": 18,
   "metadata": {},
   "outputs": [],
   "source": [
    "# rename columns \n",
    "final_df = final_df.rename( columns = {\"MDRDSTRD\" : \"distraction\", \"PJ\" : \"police jurisdiction\", \"REGION\" : \"region\",\n",
    "        \"PER_TYP\" : \"person involved\", \"AGE\" : \"age\", \"SEX\" : \"sex\", \"ALTRSULT\" : \"alcohol\", \"DAY_WEEK\" : \"dow\", \"HOUR\" : \"hr\", \"INT_HWY\" : \"interstate hwy\", \"LAND_USE\" : \"population class\", \"MAN_COLL\" : \"collision\",\n",
    "        \"MAX_SEV\" : \"injury\", \"MINUTE\" : \"min\", \"MONTH\" : \"month\", \"RELJCT2\" : \"specific location\", \"REL_ROAD\" : \"relation to road\", \"TYP_INT\" : \"intersection type\", \"WRK_ZONE\" : \"work zone\", \"VNUM_LAN\" : \"lanes\", \"AOI1\" : \"area of impact\",\n",
    "        \"WEIGHT\" : \"weight\", \"TRAV_SP\" : \"speed\", \"VSPD_LIM\" : \"speed limit\", \"YEAR\": \"year\", \"ACC_TYPE\" : \"crash type\", \"MAKE\": \"make\", \"NUMOCCS\" : \"vehicle occupants\"})"
   ]
  },
  {
   "cell_type": "markdown",
   "metadata": {},
   "source": [
    "### Creating distracted/not-distracted binary variable "
   ]
  },
  {
   "cell_type": "code",
   "execution_count": 19,
   "metadata": {},
   "outputs": [
    {
     "name": "stdout",
     "output_type": "stream",
     "text": [
      "Distracted Cases 55724\n",
      "Non-Distracted Cases 480296\n"
     ]
    }
   ],
   "source": [
    "final_df[\"distracted_binary\"] = 0\n",
    "final_df.loc[((final_df['distraction'] != 0) & (final_df['distraction'] != 96) & (final_df['distraction'] != 99)), 'distracted_binary'] = 1\n",
    "distracted = final_df.loc[final_df['distracted_binary'] == 1]\n",
    "non_distracted = final_df.loc[final_df['distracted_binary'] == 0]\n",
    "print (\"Distracted Cases {}\\nNon-Distracted Cases {}\".format(len(distracted), len(non_distracted)))"
   ]
  },
  {
   "cell_type": "markdown",
   "metadata": {},
   "source": [
    "### Dataframe presents no need for dropping null items\n"
   ]
  },
  {
   "cell_type": "code",
   "execution_count": 20,
   "metadata": {
    "scrolled": true
   },
   "outputs": [
    {
     "name": "stdout",
     "output_type": "stream",
     "text": [
      "<class 'pandas.core.frame.DataFrame'>\n",
      "RangeIndex: 536020 entries, 0 to 536019\n",
      "Data columns (total 32 columns):\n",
      "Unnamed: 0           536020 non-null int64\n",
      "CASENUM              536020 non-null float64\n",
      "non_motorist         536020 non-null int64\n",
      "CASENUM_VEH_NO       536020 non-null object\n",
      "distraction          536020 non-null float64\n",
      "region               536020 non-null float64\n",
      "weight               536020 non-null float64\n",
      "person involved      536020 non-null float64\n",
      "age                  536020 non-null float64\n",
      "sex                  536020 non-null float64\n",
      "alcohol              536020 non-null float64\n",
      "dow                  536020 non-null float64\n",
      "hr                   536020 non-null float64\n",
      "interstate hwy       536020 non-null float64\n",
      "population class     536020 non-null float64\n",
      "collision            536020 non-null float64\n",
      "injury               536020 non-null float64\n",
      "min                  536020 non-null float64\n",
      "month                536020 non-null float64\n",
      "specific location    536020 non-null float64\n",
      "relation to road     536020 non-null float64\n",
      "intersection type    536020 non-null float64\n",
      "work zone            536020 non-null float64\n",
      "year                 536020 non-null float64\n",
      "speed                536020 non-null float64\n",
      "speed limit          536020 non-null float64\n",
      "crash type           536020 non-null float64\n",
      "make                 536020 non-null float64\n",
      "lanes                536020 non-null float64\n",
      "vehicle occupants    536020 non-null float64\n",
      "area of impact       536020 non-null float64\n",
      "distracted_binary    536020 non-null int64\n",
      "dtypes: float64(28), int64(3), object(1)\n",
      "memory usage: 128.8+ MB\n"
     ]
    }
   ],
   "source": [
    "final_df.info()"
   ]
  },
  {
   "cell_type": "markdown",
   "metadata": {},
   "source": [
    "### Values Key \n",
    "#### N/R : Not Reported\n",
    "#### U/K: Unknown"
   ]
  },
  {
   "cell_type": "markdown",
   "metadata": {},
   "source": [
    "### Adjust Time of Day Labels"
   ]
  },
  {
   "cell_type": "code",
   "execution_count": 21,
   "metadata": {},
   "outputs": [],
   "source": [
    "final_df.loc[(final_df['hr'] >= 0.0) & (final_df['hr'] < 6.0), 'hr'] = 101\n",
    "final_df.loc[(final_df['hr'] >=  6.0) & (final_df['hr'] < 10.0), 'hr'] = 102\n",
    "final_df.loc[(final_df['hr'] >=  10.0) & (final_df['hr'] < 16.0), 'hr'] = 103\n",
    "final_df.loc[(final_df['hr'] >=  16.0) & (final_df['hr'] < 20.0), 'hr'] = 104\n",
    "final_df.loc[(final_df['hr'] >=  20.0) & (final_df['hr'] <= 23.0), 'hr'] = 105\n",
    "final_df['hr'] = final_df['hr'].astype(str)\n",
    "final_df.loc[(final_df['hr'] == '101.0'), 'hr'] = \"late_night\"\n",
    "final_df.loc[(final_df['hr'] == '102.0'), 'hr']  = \"morning_rush\"\n",
    "final_df.loc[(final_df['hr'] == '103.0'), 'hr']  = \"afternoon\"\n",
    "final_df.loc[(final_df['hr'] == '104.0'), 'hr']  = \"afternoon_rush\"\n",
    "final_df.loc[(final_df['hr'] == '105.0'), 'hr']  = \"night\""
   ]
  },
  {
   "cell_type": "markdown",
   "metadata": {},
   "source": [
    "### Make age categorical "
   ]
  },
  {
   "cell_type": "code",
   "execution_count": 22,
   "metadata": {},
   "outputs": [],
   "source": [
    "final_df = final_df.loc[final_df['age'] > 14]\n",
    "final_df.loc[(final_df['age'] == 997) | (final_df['age'] == 998), 'age'] = 0\n",
    "final_df.loc[(final_df['age'] == 999), 'age'] = 6\n",
    "final_df.loc[(final_df['age'] < 25) & (final_df['age'] >= 15), 'age'] = 1\n",
    "final_df.loc[(final_df['age'] < 35) & (final_df['age'] >= 25), 'age'] = 2\n",
    "final_df.loc[(final_df['age'] < 45) & (final_df['age'] >= 35), 'age'] = 3\n",
    "final_df.loc[(final_df['age'] < 65) & (final_df['age'] >= 45), 'age'] = 4\n",
    "final_df.loc[final_df['age'] >= 65, 'age'] = 5\n",
    "final_df['age'] = final_df['age'].astype(str)\n",
    "final_df.loc[(final_df['age'] == \"0.0\"),  'age'] = 'N/R'\n",
    "final_df.loc[(final_df['age'] == \"1.0\"), 'age'] = '15_24'\n",
    "final_df.loc[(final_df['age'] == \"2.0\"), 'age'] = '25_34'\n",
    "final_df.loc[(final_df['age'] == \"3.0\"), 'age'] = '35_44'\n",
    "final_df.loc[(final_df['age'] == \"4.0\"), 'age'] = '45_64'\n",
    "final_df.loc[(final_df['age'] == \"5.0\"), 'age'] = 'over_65'\n",
    "final_df.loc[(final_df['age'] == \"6.0\"), 'age'] = 'U/K'"
   ]
  },
  {
   "cell_type": "markdown",
   "metadata": {},
   "source": [
    "### Adjust Sex Labels"
   ]
  },
  {
   "cell_type": "code",
   "execution_count": 23,
   "metadata": {},
   "outputs": [],
   "source": [
    "final_df['sex'] = final_df['sex'].astype(str)\n",
    "final_df.loc[final_df['sex'] == '1.0', 'sex'] = \"M\" \n",
    "final_df.loc[final_df['sex'] == '2.0', 'sex'] = \"F\"\n",
    "final_df.loc[(final_df['sex'] == '7.0') | (final_df['sex'] == '8.0'), 'sex'] = \"N/R\"\n",
    "final_df.loc[(final_df['sex'] == '9.0'), 'sex'] = \"U/K\""
   ]
  },
  {
   "cell_type": "markdown",
   "metadata": {},
   "source": [
    "### Adjust Relation to Road Labels"
   ]
  },
  {
   "cell_type": "code",
   "execution_count": 24,
   "metadata": {},
   "outputs": [],
   "source": [
    "final_df['relation to road'] = final_df['relation to road'].astype(str)\n",
    "final_df.loc[(final_df['relation to road'] == '1.0'), 'relation to road'] = 'roadway'\n",
    "final_df.loc[(final_df['relation to road'] == '2.0'), 'relation to road'] = 'shoulder'\n",
    "final_df.loc[(final_df['relation to road'] == '5.0') | (final_df['relation to road'] == '6.0'), 'relation to road'] = 'outside_traffic'\n",
    "final_df.loc[(final_df['relation to road'] == '3.0'), 'relation to road'] = 'median'\n",
    "final_df.loc[(final_df['relation to road'] == '4.0'), 'relation to road'] = 'roadside'\n",
    "final_df.loc[(final_df['relation to road'] == '7.0'), 'relation to road'] = 'pking_zone'\n",
    "final_df.loc[(final_df['relation to road'] == '8.0'), 'relation to road'] = 'gore'\n",
    "final_df.loc[(final_df['relation to road'] == '10.0'), 'relation to road'] = 'separator'\n",
    "final_df.loc[(final_df['relation to road'] == '9.0') | (final_df['relation to road'] == '11.0'), 'relation to road'] = 'left_turn_ln'\n",
    "final_df.loc[(final_df['relation to road'] == '99.0'), 'relation to road'] = 'U/K'\n",
    "final_df.loc[(final_df['relation to road'] == '97.0') | (final_df['relation to road'] == '98.0'), 'relation to road'] = 'N/R'"
   ]
  },
  {
   "cell_type": "markdown",
   "metadata": {},
   "source": [
    "### Adjust Collision Labels"
   ]
  },
  {
   "cell_type": "code",
   "execution_count": 25,
   "metadata": {},
   "outputs": [],
   "source": [
    "final_df['collision'] = final_df['collision'].astype(str)\n",
    "final_df.loc[final_df['collision'] == '0.0', 'collision'] = 'not_motor_vehicle'\n",
    "final_df.loc[final_df['collision'] == '1.0', 'collision'] = 'rear_end'\n",
    "final_df.loc[final_df['collision'] == '2.0', 'collision'] = 'head_on'\n",
    "final_df.loc[(final_df['collision'] == '3.0') | (final_df['collision'] == '9.0') | (final_df['collision'] == '10.0') | ((final_df['collision'] == '7.0') & (final_df['year'] == 2010.0)), 'collision'] = 'in_reverse'\n",
    "final_df.loc[(final_df['collision'] == '6.0') | (final_df['collision'] == '4.0'), 'collision'] = 'angle'\n",
    "final_df.loc[(final_df['collision'] == '7.0') | (final_df['collision'] == '8.0') | (final_df['collision'] == '5.0') | ((final_df['collision'] == '6.0') & (final_df['year'] == 2010.0)), 'collision'] = 'side_swipe'\n",
    "final_df.loc[(final_df['collision'] == '11.0') | ((final_df['collision'] == '8.0') & (final_df['year'] == 2010.0)) , 'collision'] = 'other'\n",
    "final_df.loc[(final_df['collision'] == '99.0') | ((final_df['collision'] == '9.0') & (final_df['year'] == 2010.0)), 'collision'] = 'U/K'\n",
    "final_df.loc[(final_df['collision'] == '97.0') | (final_df['collision'] == '98.0'), 'collision'] = 'N/R'\n"
   ]
  },
  {
   "cell_type": "markdown",
   "metadata": {},
   "source": [
    "### Adjust Injury Columns"
   ]
  },
  {
   "cell_type": "code",
   "execution_count": 26,
   "metadata": {},
   "outputs": [],
   "source": [
    "final_df['injury'] = final_df['injury'].astype(str)\n",
    "final_df.loc[(final_df['injury'] == '0.0'), 'injury'] = 'none'\n",
    "final_df.loc[(final_df['injury'] == '1.0'), 'injury'] = 'possible'\n",
    "final_df.loc[(final_df['injury'] == '2.0'), 'injury'] = 'non_incap'\n",
    "final_df.loc[(final_df['injury'] == '3.0'), 'injury'] = 'incap'\n",
    "final_df.loc[(final_df['injury'] == '4.0'), 'injury'] = 'fatal'\n",
    "final_df.loc[(final_df['injury'] == '5.0'), 'injury'] = 'injury'\n",
    "final_df.loc[(final_df['injury'] == '9.0'), 'injury'] = 'U/K'\n",
    "final_df = final_df.loc[(final_df['injury'] != '8.0')]\n",
    "final_df = final_df.loc[(final_df['injury'] != '6.0')] "
   ]
  },
  {
   "cell_type": "markdown",
   "metadata": {},
   "source": [
    "### Adjust Speed Limit Labels"
   ]
  },
  {
   "cell_type": "code",
   "execution_count": 27,
   "metadata": {},
   "outputs": [],
   "source": [
    "final_df.loc[(final_df['speed limit'] == 99.0), 'speed limit'] = 1000\n",
    "final_df.loc[(final_df['speed limit'] == 97.0), 'speed limit'] = 1001\n",
    "final_df.loc[(final_df['speed limit'] == 98.0), 'speed limit'] = 1001\n",
    "final_df.loc[(final_df['speed limit'] == 99.0), 'speed limit'] = 1002\n",
    "final_df.loc[(final_df['speed limit'] >= 1) & (final_df['speed limit'] <= 15 ), 'speed limit'] = 1\n",
    "final_df.loc[(final_df['speed limit'] > 15) & (final_df['speed limit'] <= 25 ), 'speed limit'] = 2\n",
    "final_df.loc[(final_df['speed limit'] > 25) & (final_df['speed limit'] <= 35 ), 'speed limit'] = 3\n",
    "final_df.loc[(final_df['speed limit'] > 35) & (final_df['speed limit'] <= 45 ), 'speed limit'] = 4\n",
    "final_df.loc[(final_df['speed limit'] > 45) & (final_df['speed limit'] <= 55 ), 'speed limit'] = 5\n",
    "final_df.loc[(final_df['speed limit'] > 55) & (final_df['speed limit'] <= 85 ), 'speed limit'] = 6\n",
    "final_df.loc[(final_df['speed limit'] > 85) & (final_df['speed limit'] < 1000 ), 'speed limit'] = 7\n",
    "final_df['speed limit'] = final_df['speed limit'].astype(str)"
   ]
  },
  {
   "cell_type": "code",
   "execution_count": 28,
   "metadata": {},
   "outputs": [],
   "source": [
    "final_df.loc[(final_df['speed limit'] == '1000.0'), 'speed limit'] = \"no_limit\"\n",
    "final_df.loc[(final_df['speed limit'] == '1.0'), 'speed limit'] = \"1_15\"\n",
    "final_df.loc[(final_df['speed limit'] == '2.0'), 'speed limit'] = \"15_25\"\n",
    "final_df.loc[(final_df['speed limit'] == '3.0'), 'speed limit'] = \"25_35\"\n",
    "final_df.loc[(final_df['speed limit'] == '4.0'), 'speed limit'] = \"35_45\"\n",
    "final_df.loc[(final_df['speed limit'] == '5.0'), 'speed limit'] = \"45_55\"\n",
    "final_df.loc[(final_df['speed limit'] == '6.0'), 'speed limit'] = \"55_85\"\n",
    "final_df.loc[(final_df['speed limit'] == '7.0'), 'speed limit'] = \"above_85\"\n",
    "final_df.loc[(final_df['speed limit'] == '1001.0'), 'speed limit'] = \"N/R\"\n",
    "final_df.loc[(final_df['speed limit'] == '1002.0'), 'speed limit'] = \"U/K\""
   ]
  },
  {
   "cell_type": "code",
   "execution_count": 29,
   "metadata": {
    "scrolled": true
   },
   "outputs": [
    {
     "data": {
      "text/plain": [
       "35_45       131616\n",
       "25_35       129392\n",
       "N/R          75247\n",
       "45_55        73119\n",
       "55_85        61927\n",
       "15_25        46864\n",
       "0.0          12885\n",
       "1_15          3066\n",
       "no_limit      1535\n",
       "Name: speed limit, dtype: int64"
      ]
     },
     "execution_count": 29,
     "metadata": {},
     "output_type": "execute_result"
    }
   ],
   "source": [
    "final_df['speed limit'].value_counts()"
   ]
  },
  {
   "cell_type": "markdown",
   "metadata": {},
   "source": [
    "### Adjust Vehicle Occupants Labels"
   ]
  },
  {
   "cell_type": "code",
   "execution_count": 42,
   "metadata": {},
   "outputs": [
    {
     "name": "stderr",
     "output_type": "stream",
     "text": [
      "No handles with labels found to put in legend.\n"
     ]
    },
    {
     "data": {
      "image/png": "[encoded data removed]",
      "text/plain": [
       "<Figure size 432x288 with 1 Axes>"
      ]
     },
     "metadata": {},
     "output_type": "display_data"
    }
   ],
   "source": [
    "import matplotlib.pyplot as plt\n",
    "\n",
    "occupants = list(final_df['vehicle occupants'])\n",
    "bins = [0,1,2,3,4,5,6,7,8,9,10]\n",
    "\n",
    "plt.hist(occupants, bins, histtype='bar', rwidth=0.8)\n",
    "\n",
    "plt.xlabel('x')\n",
    "plt.ylabel('y')\n",
    "plt.title('Number of Occupants')\n",
    "plt.legend()\n",
    "plt.show()"
   ]
  },
  {
   "cell_type": "code",
   "execution_count": 31,
   "metadata": {},
   "outputs": [],
   "source": [
    "final_df['vehicle occupants'] = final_df['vehicle occupants'].astype(str)\n",
    "final_df.loc[(final_df['vehicle occupants'] == '97.0'), 'vehicle occupants'] = \"N/R\"\n",
    "final_df.loc[(final_df['vehicle occupants'] == '99.0'), 'vehicle occupants'] = \"U/K\"\n",
    "final_df.loc[(final_df['vehicle occupants'] == '1.0'), 'vehicle occupants'] = \"1\"\n",
    "final_df.loc[(final_df['vehicle occupants'] == '2.0'), 'vehicle occupants'] = \"2\"\n",
    "final_df.loc[(final_df['vehicle occupants'] == '3.0'), 'vehicle occupants'] = \"3\"\n",
    "final_df.loc[(final_df['vehicle occupants'] == '4.0'), 'vehicle occupants'] = \"4\"\n",
    "final_df.loc[(final_df['vehicle occupants'] == '5.0'), 'vehicle occupants'] = \"5\"\n",
    "final_df.loc[(final_df['vehicle occupants'] == '6.0'), 'vehicle occupants'] = \"6\"\n",
    "final_df.loc[(final_df['vehicle occupants'] == '7.0'), 'vehicle occupants'] = \"7\"\n",
    "final_df.loc[(final_df['vehicle occupants'] == '8.0'), 'vehicle occupants'] = \"8\"\n",
    "final_df.loc[(final_df['vehicle occupants'] == '9.0'), 'vehicle occupants'] = \"9\"\n",
    "final_df.loc[(final_df['vehicle occupants'] == '10.0'), 'vehicle occupants'] = \"10\"\n",
    "final_df.loc[(final_df['vehicle occupants'] != '1') & (final_df['vehicle occupants'] != '2') & (final_df['vehicle occupants'] != '3') & (final_df['vehicle occupants'] != '4') & (final_df['vehicle occupants'] != '5') & (final_df['vehicle occupants'] != '6') & (final_df['vehicle occupants'] != '7') & (final_df['vehicle occupants'] != '8') & (final_df['vehicle occupants'] != '9') & (final_df['vehicle occupants'] != '10') & (final_df['vehicle occupants'] != 'U/K') & (final_df['vehicle occupants'] != 'N/R'), 'vehicle occupants'] = \"above_10\""
   ]
  },
  {
   "cell_type": "code",
   "execution_count": 32,
   "metadata": {},
   "outputs": [],
   "source": [
    "final_df.to_csv(r\"C:\\Users\\murra667\\Documents\\Springboard\\Capstone_2\\After 2010\\2010_2015_GES_k_modes_input.csv\")"
   ]
  }
 ],
 "metadata": {
  "kernelspec": {
   "display_name": "Python 3",
   "language": "python",
   "name": "python3"
  },
  "language_info": {
   "codemirror_mode": {
    "name": "ipython",
    "version": 3
   },
   "file_extension": ".py",
   "mimetype": "text/x-python",
   "name": "python",
   "nbconvert_exporter": "python",
   "pygments_lexer": "ipython3",
   "version": "3.6.5"
  }
 },
 "nbformat": 4,
 "nbformat_minor": 2
}
