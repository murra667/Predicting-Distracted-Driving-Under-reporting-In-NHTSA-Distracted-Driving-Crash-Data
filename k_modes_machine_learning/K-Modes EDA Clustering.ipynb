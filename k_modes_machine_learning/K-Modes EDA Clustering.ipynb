{
 "cells": [
  {
   "cell_type": "code",
   "execution_count": 1,
   "metadata": {},
   "outputs": [],
   "source": [
    "import pandas as pd\n",
    "pd.set_option('display.float_format', lambda x: '%.0f' % x)\n",
    "import os\n",
    "from sklearn.cluster import KMeans\n",
    "import numpy as np \n",
    "from kmodes.kmodes import KModes\n",
    "from kmodes.kprototypes import KPrototypes\n",
    "import matplotlib.pyplot as plt\n",
    "from sklearn.decomposition import PCA\n",
    "from statsmodels.stats.proportion import proportions_ztest\n",
    "import pickle"
   ]
  },
  {
   "cell_type": "code",
   "execution_count": 2,
   "metadata": {},
   "outputs": [],
   "source": [
    "df = pd.read_csv(r\"C:\\Users\\murra667\\Documents\\Springboard\\Capstone_2\\After 2010\\2010_2015_GES_k_modes_input.csv\")"
   ]
  },
  {
   "cell_type": "code",
   "execution_count": 3,
   "metadata": {},
   "outputs": [
    {
     "data": {
      "text/plain": [
       "535651"
      ]
     },
     "execution_count": 3,
     "metadata": {},
     "output_type": "execute_result"
    }
   ],
   "source": [
    "len(df)"
   ]
  },
  {
   "cell_type": "code",
   "execution_count": null,
   "metadata": {},
   "outputs": [],
   "source": [
    "#df_modes = df.drop(columns = [\"Unnamed: 0\", \"CASENUM_VEH_NO\", \"CASENUM\", \"distraction\", \"distracted_binary\",\"region\", \"lanes\", \"area of impact\", \"min\", \"crash type\", \"alcohol\", \"weight\"])\n",
    "df_modes = df[['work zone', 'speed limit',\n",
    "              'relation to road', 'specific location', 'month', 'injury', 'collision',\n",
    "              'population class', 'interstate hwy', 'hr', 'dow', 'sex', 'age', 'vehicle occupants']]\n",
    "X = np.array(df_modes)"
   ]
  },
  {
   "cell_type": "code",
   "execution_count": null,
   "metadata": {},
   "outputs": [],
   "source": [
    "def run_k_modes(range_n_clusters, data_array):\n",
    "    labels_dict = {}\n",
    "    centroids_dict = {}\n",
    "    for k in range_n_clusters:\n",
    "        clusterer = KModes(n_clusters=k, init='Cao', verbose=2)\n",
    "        clusters = clusterer.fit_predict(X)\n",
    "        labels = clusterer.labels_\n",
    "        centroids = clusterer.cluster_centroids_\n",
    "        labels_dict[k] = labels\n",
    "        centroids_dict[k] = centroids\n",
    "    return (labels_dict, centroids_dict)"
   ]
  },
  {
   "cell_type": "code",
   "execution_count": null,
   "metadata": {},
   "outputs": [],
   "source": [
    "k_modes_labels_dict, k_modes_centroids_dict = run_k_modes(range(2,7), X)"
   ]
  },
  {
   "cell_type": "code",
   "execution_count": null,
   "metadata": {},
   "outputs": [],
   "source": [
    "with open('k_modes_centroids.pickle', 'wb') as handle:\n",
    "    pickle.dump(k_modes_centroids_dict, handle, protocol=pickle.HIGHEST_PROTOCOL)\n"
   ]
  },
  {
   "cell_type": "code",
   "execution_count": null,
   "metadata": {},
   "outputs": [],
   "source": [
    "def map_cluster_labels_to_dataset(original_df, cluster_labels_dict):\n",
    "    global df_cluster_labels\n",
    "    df_cluster_labels = df\n",
    "    for k, labels in cluster_labels_dict.items():\n",
    "        list_labels = np.ndarray.tolist(cluster_labels_dict[k])\n",
    "        df_cluster = pd.DataFrame({str(k) : list_labels}) \n",
    "        df_cluster_labels = pd.concat((df_cluster_labels, df_cluster), axis = 1)\n",
    "        df_cluster_labels['count'] = 1\n",
    "    return (df_cluster_labels)"
   ]
  },
  {
   "cell_type": "code",
   "execution_count": null,
   "metadata": {},
   "outputs": [],
   "source": [
    "final_clusteres_df = map_cluster_labels_to_dataset(df, k_modes_labels_dict)"
   ]
  },
  {
   "cell_type": "code",
   "execution_count": 7,
   "metadata": {},
   "outputs": [],
   "source": [
    "df = pd.read_csv(r\"C:\\Users\\murra667\\Documents\\Springboard\\Capstone_2\\k_modes_machine_learning\\k_modes_manual_clusters_with_distracted.csv\")"
   ]
  },
  {
   "cell_type": "code",
   "execution_count": 8,
   "metadata": {},
   "outputs": [],
   "source": [
    "df[0:10000].to_csv(r\"C:\\Users\\murra667\\Documents\\Springboard\\Capstone_2\\k_modes_machine_learning\\k_modes_manual_clusters_with_distracted_sample.csv\")"
   ]
  },
  {
   "cell_type": "code",
   "execution_count": null,
   "metadata": {},
   "outputs": [],
   "source": [
    "final_clusteres_df.to_csv(\"k_modes_manual_clusters_with_distracted.csv\")"
   ]
  }
 ],
 "metadata": {
  "kernelspec": {
   "display_name": "Python 3",
   "language": "python",
   "name": "python3"
  },
  "language_info": {
   "codemirror_mode": {
    "name": "ipython",
    "version": 3
   },
   "file_extension": ".py",
   "mimetype": "text/x-python",
   "name": "python",
   "nbconvert_exporter": "python",
   "pygments_lexer": "ipython3",
   "version": "3.6.5"
  }
 },
 "nbformat": 4,
 "nbformat_minor": 2
}
